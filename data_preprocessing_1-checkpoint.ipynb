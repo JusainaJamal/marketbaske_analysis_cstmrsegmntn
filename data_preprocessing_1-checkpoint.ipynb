{
 "cells": [
  {
   "cell_type": "markdown",
   "id": "b97d3f43",
   "metadata": {},
   "source": [
    "# Product  Recommendation Based On Market Basket Analysis & Customer segmentation"
   ]
  },
  {
   "cell_type": "markdown",
   "id": "ebadea79",
   "metadata": {},
   "source": [
    "### 1. Import  necessary libraries"
   ]
  },
  {
   "cell_type": "code",
   "execution_count": 1,
   "id": "5e15c06f",
   "metadata": {},
   "outputs": [
    {
     "name": "stderr",
     "output_type": "stream",
     "text": [
      "C:\\Users\\DELL\\anaconda3\\Lib\\site-packages\\yellowbrick\\style\\colors.py:35: DeprecationWarning: distutils Version classes are deprecated. Use packaging.version instead.\n",
      "  mpl_ge_150 = LooseVersion(mpl.__version__) >= \"1.5.0\"\n",
      "C:\\Users\\DELL\\anaconda3\\Lib\\site-packages\\setuptools\\_distutils\\version.py:345: DeprecationWarning: distutils Version classes are deprecated. Use packaging.version instead.\n",
      "  other = LooseVersion(other)\n",
      "C:\\Users\\DELL\\anaconda3\\Lib\\site-packages\\yellowbrick\\style\\rcmod.py:31: DeprecationWarning: distutils Version classes are deprecated. Use packaging.version instead.\n",
      "  mpl_ge_150 = LooseVersion(mpl.__version__) >= \"1.5.0\"\n",
      "C:\\Users\\DELL\\anaconda3\\Lib\\site-packages\\setuptools\\_distutils\\version.py:345: DeprecationWarning: distutils Version classes are deprecated. Use packaging.version instead.\n",
      "  other = LooseVersion(other)\n"
     ]
    }
   ],
   "source": [
    "import pandas as pd\n",
    "import numpy as np\n",
    "import matplotlib.pyplot as plt\n",
    "import seaborn as sns\n",
    "import calendar\n",
    "from datetime import datetime, timedelta\n",
    "\n",
    "# Runtime Configuration Parameters for Matplotlib\n",
    "plt.rcParams['font.family'] = 'Verdana'\n",
    "plt.style.use('ggplot')\n",
    "\n",
    "# Importing from packaging module for version comparison\n",
    "from packaging import version as packaging_version\n",
    "\n",
    "from mlxtend.frequent_patterns import apriori\n",
    "from mlxtend.frequent_patterns import association_rules\n",
    "\n",
    "# Importing KElbowVisualizer, SilhouetteVisualizer from yellowbrick.cluster\n",
    "from yellowbrick.cluster import KElbowVisualizer, SilhouetteVisualizer\n",
    "\n",
    "# Importing StandardScaler, KMeans from sklearn.preprocessing and sklearn.cluster\n",
    "from sklearn.preprocessing import StandardScaler\n",
    "from sklearn.cluster import KMeans\n",
    "\n",
    "# Importing metrics from sklearn\n",
    "from sklearn import metrics\n",
    "\n",
    "import warnings\n",
    "warnings.filterwarnings(\"ignore\", category=FutureWarning)\n",
    "\n",
    "from packaging.version import Version"
   ]
  },
  {
   "cell_type": "code",
   "execution_count": 2,
   "id": "a710e5e6",
   "metadata": {},
   "outputs": [],
   "source": [
    "import warnings\n",
    "\n",
    "# Suppress DeprecationWarning for the entire script\n",
    "warnings.filterwarnings(\"ignore\", category=DeprecationWarning)\n",
    "\n",
    "# Suppress DeprecationWarning for a specific function\n",
    "with warnings.catch_warnings():\n",
    "    warnings.simplefilter(\"ignore\", category=DeprecationWarning)"
   ]
  },
  {
   "cell_type": "markdown",
   "id": "8a82a17a",
   "metadata": {},
   "source": [
    "### 2. Load Dataset"
   ]
  },
  {
   "cell_type": "code",
   "execution_count": 3,
   "id": "57f79fd3",
   "metadata": {},
   "outputs": [
    {
     "data": {
      "text/html": [
       "<div>\n",
       "<style scoped>\n",
       "    .dataframe tbody tr th:only-of-type {\n",
       "        vertical-align: middle;\n",
       "    }\n",
       "\n",
       "    .dataframe tbody tr th {\n",
       "        vertical-align: top;\n",
       "    }\n",
       "\n",
       "    .dataframe thead th {\n",
       "        text-align: right;\n",
       "    }\n",
       "</style>\n",
       "<table border=\"1\" class=\"dataframe\">\n",
       "  <thead>\n",
       "    <tr style=\"text-align: right;\">\n",
       "      <th></th>\n",
       "      <th>InvoiceNo</th>\n",
       "      <th>StockCode</th>\n",
       "      <th>Description</th>\n",
       "      <th>Quantity</th>\n",
       "      <th>InvoiceDate</th>\n",
       "      <th>UnitPrice</th>\n",
       "      <th>CustomerID</th>\n",
       "      <th>Country</th>\n",
       "    </tr>\n",
       "  </thead>\n",
       "  <tbody>\n",
       "    <tr>\n",
       "      <th>0</th>\n",
       "      <td>536365</td>\n",
       "      <td>85123A</td>\n",
       "      <td>WHITE HANGING HEART T-LIGHT HOLDER</td>\n",
       "      <td>6</td>\n",
       "      <td>01/12/2010 08:26</td>\n",
       "      <td>2.55</td>\n",
       "      <td>17850.0</td>\n",
       "      <td>United Kingdom</td>\n",
       "    </tr>\n",
       "    <tr>\n",
       "      <th>1</th>\n",
       "      <td>536365</td>\n",
       "      <td>71053</td>\n",
       "      <td>WHITE METAL LANTERN</td>\n",
       "      <td>6</td>\n",
       "      <td>01/12/2010 08:26</td>\n",
       "      <td>3.39</td>\n",
       "      <td>17850.0</td>\n",
       "      <td>United Kingdom</td>\n",
       "    </tr>\n",
       "    <tr>\n",
       "      <th>2</th>\n",
       "      <td>536365</td>\n",
       "      <td>84406B</td>\n",
       "      <td>CREAM CUPID HEARTS COAT HANGER</td>\n",
       "      <td>8</td>\n",
       "      <td>01/12/2010 08:26</td>\n",
       "      <td>2.75</td>\n",
       "      <td>17850.0</td>\n",
       "      <td>United Kingdom</td>\n",
       "    </tr>\n",
       "    <tr>\n",
       "      <th>3</th>\n",
       "      <td>536365</td>\n",
       "      <td>84029G</td>\n",
       "      <td>KNITTED UNION FLAG HOT WATER BOTTLE</td>\n",
       "      <td>6</td>\n",
       "      <td>01/12/2010 08:26</td>\n",
       "      <td>3.39</td>\n",
       "      <td>17850.0</td>\n",
       "      <td>United Kingdom</td>\n",
       "    </tr>\n",
       "    <tr>\n",
       "      <th>4</th>\n",
       "      <td>536365</td>\n",
       "      <td>84029E</td>\n",
       "      <td>RED WOOLLY HOTTIE WHITE HEART.</td>\n",
       "      <td>6</td>\n",
       "      <td>01/12/2010 08:26</td>\n",
       "      <td>3.39</td>\n",
       "      <td>17850.0</td>\n",
       "      <td>United Kingdom</td>\n",
       "    </tr>\n",
       "  </tbody>\n",
       "</table>\n",
       "</div>"
      ],
      "text/plain": [
       "  InvoiceNo StockCode                          Description  Quantity  \\\n",
       "0    536365    85123A   WHITE HANGING HEART T-LIGHT HOLDER         6   \n",
       "1    536365     71053                  WHITE METAL LANTERN         6   \n",
       "2    536365    84406B       CREAM CUPID HEARTS COAT HANGER         8   \n",
       "3    536365    84029G  KNITTED UNION FLAG HOT WATER BOTTLE         6   \n",
       "4    536365    84029E       RED WOOLLY HOTTIE WHITE HEART.         6   \n",
       "\n",
       "        InvoiceDate  UnitPrice  CustomerID         Country  \n",
       "0  01/12/2010 08:26       2.55     17850.0  United Kingdom  \n",
       "1  01/12/2010 08:26       3.39     17850.0  United Kingdom  \n",
       "2  01/12/2010 08:26       2.75     17850.0  United Kingdom  \n",
       "3  01/12/2010 08:26       3.39     17850.0  United Kingdom  \n",
       "4  01/12/2010 08:26       3.39     17850.0  United Kingdom  "
      ]
     },
     "execution_count": 3,
     "metadata": {},
     "output_type": "execute_result"
    }
   ],
   "source": [
    "data=pd.read_csv('C:\\\\Users\\\\DELL\\\\Documents\\\\project_customer_segmentation\\\\OnlineRetail.csv',encoding='ISO-8859-1')\n",
    "data.head()"
   ]
  },
  {
   "cell_type": "markdown",
   "id": "b3700b2f",
   "metadata": {},
   "source": [
    "### 3. Data Preprocessing"
   ]
  },
  {
   "cell_type": "markdown",
   "id": "475d4734",
   "metadata": {},
   "source": [
    "###### 3.1. Explore the dataset"
   ]
  },
  {
   "cell_type": "code",
   "execution_count": 6,
   "id": "c26da737",
   "metadata": {},
   "outputs": [
    {
     "name": "stdout",
     "output_type": "stream",
     "text": [
      "<class 'pandas.core.frame.DataFrame'>\n",
      "RangeIndex: 541909 entries, 0 to 541908\n",
      "Data columns (total 8 columns):\n",
      " #   Column       Non-Null Count   Dtype  \n",
      "---  ------       --------------   -----  \n",
      " 0   InvoiceNo    541909 non-null  object \n",
      " 1   StockCode    541909 non-null  object \n",
      " 2   Description  540455 non-null  object \n",
      " 3   Quantity     541909 non-null  int64  \n",
      " 4   InvoiceDate  541909 non-null  object \n",
      " 5   UnitPrice    541909 non-null  float64\n",
      " 6   CustomerID   406829 non-null  float64\n",
      " 7   Country      541909 non-null  object \n",
      "dtypes: float64(2), int64(1), object(5)\n",
      "memory usage: 33.1+ MB\n"
     ]
    }
   ],
   "source": [
    "data.info()"
   ]
  },
  {
   "cell_type": "markdown",
   "id": "a7b783eb",
   "metadata": {},
   "source": [
    "###### About the dataset\n",
    "\n",
    "\n",
    "1. InvoiceNo: Invoice number.A 6-digit integral number uniquely assigned to each transaction.# If this code starts with letter 'c', it indicates a cancellation.\n",
    "\n",
    "2. StockCode: Product code.A 5-digit integral number uniquely assigned to each distinct product.\n",
    "\n",
    "3. Description: Product name. \n",
    "\n",
    "4. Quantity: The quantities of each product per transaction.\n",
    "\n",
    "5. InvoiceDate: Invice Date and time.The day and time when each transaction was generated.\n",
    "\n",
    "6. UnitPrice: Unit price.Product price per unit\n",
    "\n",
    "7. CustomerID: Customer number.A 5-digit integral number uniquely assigned to each customer.\n",
    "\n",
    "8. Country: Country name.The name of the country where each customer resides."
   ]
  },
  {
   "cell_type": "code",
   "execution_count": 7,
   "id": "4713bac4",
   "metadata": {},
   "outputs": [
    {
     "data": {
      "text/plain": [
       "(541909, 8)"
      ]
     },
     "execution_count": 7,
     "metadata": {},
     "output_type": "execute_result"
    }
   ],
   "source": [
    "data.shape"
   ]
  },
  {
   "cell_type": "markdown",
   "id": "1b10ef54",
   "metadata": {},
   "source": [
    "There is 541909 obseravtion with 8 fetures are available in the data set."
   ]
  },
  {
   "cell_type": "markdown",
   "id": "b0748a79",
   "metadata": {},
   "source": [
    "###### 3.2. Handling missing value"
   ]
  },
  {
   "cell_type": "code",
   "execution_count": 8,
   "id": "be698ec0",
   "metadata": {},
   "outputs": [
    {
     "data": {
      "text/plain": [
       "InvoiceNo           0\n",
       "StockCode           0\n",
       "Description      1454\n",
       "Quantity            0\n",
       "InvoiceDate         0\n",
       "UnitPrice           0\n",
       "CustomerID     135080\n",
       "Country             0\n",
       "dtype: int64"
      ]
     },
     "execution_count": 8,
     "metadata": {},
     "output_type": "execute_result"
    }
   ],
   "source": [
    "data.isnull().sum()"
   ]
  },
  {
   "cell_type": "markdown",
   "id": "0274725d",
   "metadata": {},
   "source": [
    "From this there is 1454 missing values in the feature Description and 135080 missing valuers in the column CustomerID"
   ]
  },
  {
   "cell_type": "code",
   "execution_count": 9,
   "id": "a694d709",
   "metadata": {},
   "outputs": [
    {
     "data": {
      "text/plain": [
       "InvoiceNo      0.000000\n",
       "StockCode      0.000000\n",
       "Description    0.002690\n",
       "Quantity       0.000000\n",
       "InvoiceDate    0.000000\n",
       "UnitPrice      0.000000\n",
       "CustomerID     0.332031\n",
       "Country        0.000000\n",
       "dtype: float64"
      ]
     },
     "execution_count": 9,
     "metadata": {},
     "output_type": "execute_result"
    }
   ],
   "source": [
    "data.isna().sum() / data.count()"
   ]
  },
  {
   "cell_type": "markdown",
   "id": "3d155423",
   "metadata": {},
   "source": [
    "In column customer ID there is huge number of missing values.if we drop that column may leads to loss of necessary data.so i consider the missing ID are guest customer"
   ]
  },
  {
   "cell_type": "code",
   "execution_count": 10,
   "id": "2b1a3762",
   "metadata": {},
   "outputs": [],
   "source": [
    "# Fill NA with 0\n",
    "data['CustomerID'] =data['CustomerID'].fillna(0)\n",
    "# Replace customers with customer_id 0 to \"Guest Customer\"\n",
    "data['CustomerID'] =data['CustomerID'].replace('0', 'Guest Customer')"
   ]
  },
  {
   "cell_type": "markdown",
   "id": "9e4fa531",
   "metadata": {},
   "source": [
    "In column Description there only .2% of missing values are there.so we can simply drop that column"
   ]
  },
  {
   "cell_type": "code",
   "execution_count": 11,
   "id": "080e96cb",
   "metadata": {},
   "outputs": [],
   "source": [
    "# Drop NAs\n",
    "data.dropna(subset=['Description'], inplace=True)"
   ]
  },
  {
   "cell_type": "markdown",
   "id": "2be421a2",
   "metadata": {},
   "source": [
    "\n",
    "###### 3.3. Handling outliers"
   ]
  },
  {
   "cell_type": "code",
   "execution_count": 12,
   "id": "1eaa0289",
   "metadata": {},
   "outputs": [
    {
     "name": "stdout",
     "output_type": "stream",
     "text": [
      "inter quartile range :  9.0\n",
      "-12.5 23.5\n"
     ]
    },
    {
     "data": {
      "text/plain": [
       "(482488, 8)"
      ]
     },
     "execution_count": 12,
     "metadata": {},
     "output_type": "execute_result"
    }
   ],
   "source": [
    "q1=data.Quantity.quantile(.25)\n",
    "q3=data.Quantity.quantile(.75)\n",
    "iqr=q3-q1\n",
    "print(\"inter quartile range : \",iqr)\n",
    "min=q1-1.5*iqr\n",
    "max=q3+1.5*iqr\n",
    "print(min,max)\n",
    "data=data[(data.Quantity>min)&(data.Quantity<max)]\n",
    "data.shape"
   ]
  },
  {
   "cell_type": "code",
   "execution_count": 13,
   "id": "fdc48309",
   "metadata": {},
   "outputs": [
    {
     "name": "stdout",
     "output_type": "stream",
     "text": [
      "inter quartile range :  2.9000000000000004\n",
      "-3.1000000000000005 8.5\n"
     ]
    },
    {
     "data": {
      "text/plain": [
       "(444309, 8)"
      ]
     },
     "execution_count": 13,
     "metadata": {},
     "output_type": "execute_result"
    }
   ],
   "source": [
    "q1=data.UnitPrice.quantile(.25)\n",
    "q3=data.UnitPrice.quantile(.75)\n",
    "iqr=q3-q1\n",
    "print(\"inter quartile range : \",iqr)\n",
    "min=q1-1.5*iqr\n",
    "max=q3+1.5*iqr\n",
    "print(min,max)\n",
    "data=data[(data.UnitPrice>min)&(data.UnitPrice<max)]\n",
    "data.shape"
   ]
  },
  {
   "cell_type": "code",
   "execution_count": 14,
   "id": "7f3aaf35",
   "metadata": {},
   "outputs": [
    {
     "data": {
      "image/png": "[encoded data removed]",
      "text/plain": [
       "<Figure size 1000x600 with 1 Axes>"
      ]
     },
     "metadata": {},
     "output_type": "display_data"
    },
    {
     "data": {
      "image/png": "[encoded data removed]",
      "text/plain": [
       "<Figure size 1000x600 with 1 Axes>"
      ]
     },
     "metadata": {},
     "output_type": "display_data"
    }
   ],
   "source": [
    "# Visualize the distribution of numerical columns using box plots\n",
    "plt.figure(figsize=(10,6))\n",
    "sns.boxplot(x='Quantity', data=data)\n",
    "plt.title('Distribution of Quantity')\n",
    "plt.show()\n",
    "\n",
    "plt.figure(figsize=(10,6))\n",
    "sns.boxplot(x='UnitPrice', data=data)\n",
    "plt.title('Distribution of UnitPrice')\n",
    "plt.show()"
   ]
  },
  {
   "cell_type": "code",
   "execution_count": 15,
   "id": "e80cf99c",
   "metadata": {},
   "outputs": [
    {
     "name": "stdout",
     "output_type": "stream",
     "text": [
      "8.550002533686007\n",
      "-3.1251084442122363\n"
     ]
    }
   ],
   "source": [
    "upprlmt_u=data['UnitPrice'].mean()+3*data['UnitPrice'].std()\n",
    "lwrlmt_u=data['UnitPrice'].mean()-3*data['UnitPrice'].std()\n",
    "print(upprlmt_u)\n",
    "print(lwrlmt_u)"
   ]
  },
  {
   "cell_type": "code",
   "execution_count": 16,
   "id": "432ed0b4",
   "metadata": {},
   "outputs": [
    {
     "name": "stdout",
     "output_type": "stream",
     "text": [
      "18.62343070763347\n",
      "-9.01414527789876\n"
     ]
    }
   ],
   "source": [
    "upprlmt=data['Quantity'].mean()+3*data['Quantity'].std()\n",
    "lwrlmt=data['Quantity'].mean()-3*data['Quantity'].std()\n",
    "print(upprlmt)\n",
    "print(lwrlmt)"
   ]
  },
  {
   "cell_type": "code",
   "execution_count": 17,
   "id": "e1cf4ec2",
   "metadata": {},
   "outputs": [
    {
     "data": {
      "text/html": [
       "<div>\n",
       "<style scoped>\n",
       "    .dataframe tbody tr th:only-of-type {\n",
       "        vertical-align: middle;\n",
       "    }\n",
       "\n",
       "    .dataframe tbody tr th {\n",
       "        vertical-align: top;\n",
       "    }\n",
       "\n",
       "    .dataframe thead th {\n",
       "        text-align: right;\n",
       "    }\n",
       "</style>\n",
       "<table border=\"1\" class=\"dataframe\">\n",
       "  <thead>\n",
       "    <tr style=\"text-align: right;\">\n",
       "      <th></th>\n",
       "      <th>InvoiceNo</th>\n",
       "      <th>StockCode</th>\n",
       "      <th>Description</th>\n",
       "      <th>Quantity</th>\n",
       "      <th>InvoiceDate</th>\n",
       "      <th>UnitPrice</th>\n",
       "      <th>CustomerID</th>\n",
       "      <th>Country</th>\n",
       "    </tr>\n",
       "  </thead>\n",
       "  <tbody>\n",
       "    <tr>\n",
       "      <th>0</th>\n",
       "      <td>536365</td>\n",
       "      <td>85123A</td>\n",
       "      <td>WHITE HANGING HEART T-LIGHT HOLDER</td>\n",
       "      <td>6</td>\n",
       "      <td>01/12/2010 08:26</td>\n",
       "      <td>2.55</td>\n",
       "      <td>17850.0</td>\n",
       "      <td>United Kingdom</td>\n",
       "    </tr>\n",
       "    <tr>\n",
       "      <th>1</th>\n",
       "      <td>536365</td>\n",
       "      <td>71053</td>\n",
       "      <td>WHITE METAL LANTERN</td>\n",
       "      <td>6</td>\n",
       "      <td>01/12/2010 08:26</td>\n",
       "      <td>3.39</td>\n",
       "      <td>17850.0</td>\n",
       "      <td>United Kingdom</td>\n",
       "    </tr>\n",
       "    <tr>\n",
       "      <th>2</th>\n",
       "      <td>536365</td>\n",
       "      <td>84406B</td>\n",
       "      <td>CREAM CUPID HEARTS COAT HANGER</td>\n",
       "      <td>8</td>\n",
       "      <td>01/12/2010 08:26</td>\n",
       "      <td>2.75</td>\n",
       "      <td>17850.0</td>\n",
       "      <td>United Kingdom</td>\n",
       "    </tr>\n",
       "    <tr>\n",
       "      <th>3</th>\n",
       "      <td>536365</td>\n",
       "      <td>84029G</td>\n",
       "      <td>KNITTED UNION FLAG HOT WATER BOTTLE</td>\n",
       "      <td>6</td>\n",
       "      <td>01/12/2010 08:26</td>\n",
       "      <td>3.39</td>\n",
       "      <td>17850.0</td>\n",
       "      <td>United Kingdom</td>\n",
       "    </tr>\n",
       "    <tr>\n",
       "      <th>4</th>\n",
       "      <td>536365</td>\n",
       "      <td>84029E</td>\n",
       "      <td>RED WOOLLY HOTTIE WHITE HEART.</td>\n",
       "      <td>6</td>\n",
       "      <td>01/12/2010 08:26</td>\n",
       "      <td>3.39</td>\n",
       "      <td>17850.0</td>\n",
       "      <td>United Kingdom</td>\n",
       "    </tr>\n",
       "    <tr>\n",
       "      <th>...</th>\n",
       "      <td>...</td>\n",
       "      <td>...</td>\n",
       "      <td>...</td>\n",
       "      <td>...</td>\n",
       "      <td>...</td>\n",
       "      <td>...</td>\n",
       "      <td>...</td>\n",
       "      <td>...</td>\n",
       "    </tr>\n",
       "    <tr>\n",
       "      <th>541904</th>\n",
       "      <td>581587</td>\n",
       "      <td>22613</td>\n",
       "      <td>PACK OF 20 SPACEBOY NAPKINS</td>\n",
       "      <td>12</td>\n",
       "      <td>09/12/2011 12:50</td>\n",
       "      <td>0.85</td>\n",
       "      <td>12680.0</td>\n",
       "      <td>France</td>\n",
       "    </tr>\n",
       "    <tr>\n",
       "      <th>541905</th>\n",
       "      <td>581587</td>\n",
       "      <td>22899</td>\n",
       "      <td>CHILDREN'S APRON DOLLY GIRL</td>\n",
       "      <td>6</td>\n",
       "      <td>09/12/2011 12:50</td>\n",
       "      <td>2.10</td>\n",
       "      <td>12680.0</td>\n",
       "      <td>France</td>\n",
       "    </tr>\n",
       "    <tr>\n",
       "      <th>541906</th>\n",
       "      <td>581587</td>\n",
       "      <td>23254</td>\n",
       "      <td>CHILDRENS CUTLERY DOLLY GIRL</td>\n",
       "      <td>4</td>\n",
       "      <td>09/12/2011 12:50</td>\n",
       "      <td>4.15</td>\n",
       "      <td>12680.0</td>\n",
       "      <td>France</td>\n",
       "    </tr>\n",
       "    <tr>\n",
       "      <th>541907</th>\n",
       "      <td>581587</td>\n",
       "      <td>23255</td>\n",
       "      <td>CHILDRENS CUTLERY CIRCUS PARADE</td>\n",
       "      <td>4</td>\n",
       "      <td>09/12/2011 12:50</td>\n",
       "      <td>4.15</td>\n",
       "      <td>12680.0</td>\n",
       "      <td>France</td>\n",
       "    </tr>\n",
       "    <tr>\n",
       "      <th>541908</th>\n",
       "      <td>581587</td>\n",
       "      <td>22138</td>\n",
       "      <td>BAKING SET 9 PIECE RETROSPOT</td>\n",
       "      <td>3</td>\n",
       "      <td>09/12/2011 12:50</td>\n",
       "      <td>4.95</td>\n",
       "      <td>12680.0</td>\n",
       "      <td>France</td>\n",
       "    </tr>\n",
       "  </tbody>\n",
       "</table>\n",
       "<p>443561 rows × 8 columns</p>\n",
       "</div>"
      ],
      "text/plain": [
       "       InvoiceNo StockCode                          Description  Quantity  \\\n",
       "0         536365    85123A   WHITE HANGING HEART T-LIGHT HOLDER         6   \n",
       "1         536365     71053                  WHITE METAL LANTERN         6   \n",
       "2         536365    84406B       CREAM CUPID HEARTS COAT HANGER         8   \n",
       "3         536365    84029G  KNITTED UNION FLAG HOT WATER BOTTLE         6   \n",
       "4         536365    84029E       RED WOOLLY HOTTIE WHITE HEART.         6   \n",
       "...          ...       ...                                  ...       ...   \n",
       "541904    581587     22613          PACK OF 20 SPACEBOY NAPKINS        12   \n",
       "541905    581587     22899         CHILDREN'S APRON DOLLY GIRL          6   \n",
       "541906    581587     23254        CHILDRENS CUTLERY DOLLY GIRL          4   \n",
       "541907    581587     23255      CHILDRENS CUTLERY CIRCUS PARADE         4   \n",
       "541908    581587     22138        BAKING SET 9 PIECE RETROSPOT          3   \n",
       "\n",
       "             InvoiceDate  UnitPrice  CustomerID         Country  \n",
       "0       01/12/2010 08:26       2.55     17850.0  United Kingdom  \n",
       "1       01/12/2010 08:26       3.39     17850.0  United Kingdom  \n",
       "2       01/12/2010 08:26       2.75     17850.0  United Kingdom  \n",
       "3       01/12/2010 08:26       3.39     17850.0  United Kingdom  \n",
       "4       01/12/2010 08:26       3.39     17850.0  United Kingdom  \n",
       "...                  ...        ...         ...             ...  \n",
       "541904  09/12/2011 12:50       0.85     12680.0          France  \n",
       "541905  09/12/2011 12:50       2.10     12680.0          France  \n",
       "541906  09/12/2011 12:50       4.15     12680.0          France  \n",
       "541907  09/12/2011 12:50       4.15     12680.0          France  \n",
       "541908  09/12/2011 12:50       4.95     12680.0          France  \n",
       "\n",
       "[443561 rows x 8 columns]"
      ]
     },
     "execution_count": 17,
     "metadata": {},
     "output_type": "execute_result"
    }
   ],
   "source": [
    "data.loc[(data['Quantity']>upprlmt)|(data['Quantity']>lwrlmt)]"
   ]
  },
  {
   "cell_type": "code",
   "execution_count": 18,
   "id": "e6b7ceb0",
   "metadata": {},
   "outputs": [],
   "source": [
    "#trimming delete outlier\n",
    "data1=data.loc[(data['UnitPrice']<upprlmt_u)&(data['UnitPrice']>lwrlmt_u)]\n",
    "\n"
   ]
  },
  {
   "cell_type": "code",
   "execution_count": 19,
   "id": "beacfe10",
   "metadata": {},
   "outputs": [
    {
     "name": "stdout",
     "output_type": "stream",
     "text": [
      "befor removing outlier (444309, 8)\n",
      "after removing outlier (437935, 8)\n"
     ]
    }
   ],
   "source": [
    "#trimming delete outlier\n",
    "data1=data1.loc[(data1['Quantity']<upprlmt)&(data1['Quantity']>lwrlmt)]\n",
    "\n",
    "print(\"befor removing outlier\",data.shape)\n",
    "print(\"after removing outlier\",data1.shape)"
   ]
  },
  {
   "cell_type": "markdown",
   "id": "84448b9a",
   "metadata": {},
   "source": [
    "###### 3.4. Change The Data type of Features "
   ]
  },
  {
   "cell_type": "markdown",
   "id": "60ad28e4",
   "metadata": {},
   "source": [
    "We know that InvoiceDate is The day and time when each transaction was generated.But here its data type shows that object so we need to convert the data type to date time format"
   ]
  },
  {
   "cell_type": "code",
   "execution_count": 20,
   "id": "dee0356d",
   "metadata": {},
   "outputs": [
    {
     "name": "stdout",
     "output_type": "stream",
     "text": [
      "<class 'pandas.core.series.Series'>\n",
      "Index: 437935 entries, 0 to 541908\n",
      "Series name: InvoiceDate\n",
      "Non-Null Count   Dtype \n",
      "--------------   ----- \n",
      "437935 non-null  object\n",
      "dtypes: object(1)\n",
      "memory usage: 6.7+ MB\n"
     ]
    }
   ],
   "source": [
    "#data1['InvoiceDate'] = pd.to_datetime(data1['InvoiceDate'],format='mixed')\n",
    "#data1['InvoiceDate'].info()\n",
    "data1.loc[:, 'InvoiceDate'] = pd.to_datetime(data1['InvoiceDate'], format='mixed')\n",
    "data1['InvoiceDate'].info()"
   ]
  },
  {
   "cell_type": "markdown",
   "id": "447e7622",
   "metadata": {},
   "source": [
    "In the dataset data tyoe of customer ID is string so i convert it to objct"
   ]
  },
  {
   "cell_type": "code",
   "execution_count": 21,
   "id": "ada13eb0",
   "metadata": {},
   "outputs": [
    {
     "name": "stdout",
     "output_type": "stream",
     "text": [
      "<class 'pandas.core.series.Series'>\n",
      "Index: 437935 entries, 0 to 541908\n",
      "Series name: CustomerID\n",
      "Non-Null Count   Dtype \n",
      "--------------   ----- \n",
      "437935 non-null  object\n",
      "dtypes: object(1)\n",
      "memory usage: 6.7+ MB\n"
     ]
    }
   ],
   "source": [
    "data1.loc[:, 'CustomerID'] = data1['CustomerID'].astype(str)\n",
    "data1['CustomerID'].info()"
   ]
  },
  {
   "cell_type": "markdown",
   "id": "07099cc4",
   "metadata": {},
   "source": [
    "### 4. Feature Engineering"
   ]
  },
  {
   "cell_type": "markdown",
   "id": "91d78b1b",
   "metadata": {},
   "source": [
    "###### 4.1. Adding new feature"
   ]
  },
  {
   "cell_type": "code",
   "execution_count": 22,
   "id": "c71f66fb",
   "metadata": {},
   "outputs": [
    {
     "name": "stdout",
     "output_type": "stream",
     "text": [
      "<class 'pandas.core.series.Series'>\n",
      "Index: 437935 entries, 0 to 541908\n",
      "Series name: InvoiceDate\n",
      "Non-Null Count   Dtype \n",
      "--------------   ----- \n",
      "437935 non-null  object\n",
      "dtypes: object(1)\n",
      "memory usage: 6.7+ MB\n"
     ]
    }
   ],
   "source": [
    "data1['InvoiceDate'].info()"
   ]
  },
  {
   "cell_type": "code",
   "execution_count": 23,
   "id": "d9a9d56e",
   "metadata": {},
   "outputs": [
    {
     "name": "stdout",
     "output_type": "stream",
     "text": [
      "datetime64[ns]\n"
     ]
    }
   ],
   "source": [
    "data1['InvoiceDate'] = pd.to_datetime(data1['InvoiceDate'])\n",
    "\n",
    "# Check the data type of the InvoiceDate column after conversion\n",
    "print(data1['InvoiceDate'].dtype)"
   ]
  },
  {
   "cell_type": "code",
   "execution_count": 24,
   "id": "32fdb58c",
   "metadata": {},
   "outputs": [],
   "source": [
    "# Date\n",
    "data1.loc[:, 'Date'] = data1['InvoiceDate'].dt.date\n",
    "\n",
    "# Time\n",
    "data1.loc[:, 'Time'] = data1['InvoiceDate'].dt.time\n",
    "\n",
    "# Hour\n",
    "data1.loc[:, \"Hour\"] = data1['InvoiceDate'].dt.strftime('%H')\n",
    "\n",
    "# Hour to Time of Day\n",
    "data1.loc[:, 'Time of Day'] = pd.cut(data1['InvoiceDate'].dt.hour, [0,6,12,18,23], labels=['Night','Morning','Afternoon','Evening'], include_lowest=True)\n",
    "\n",
    "# Month\n",
    "data1.loc[:, 'Month'] = data1['InvoiceDate'].dt.month_name()\n",
    "\n",
    "# Year\n",
    "data1.loc[:, 'Year'] = data1['InvoiceDate'].dt.year\n",
    "\n",
    "# Week of the Year\n",
    "data1.loc[:, 'Week of the Year'] = data1['InvoiceDate'].dt.isocalendar().week\n",
    "\n",
    "# Day of Week\n",
    "data1.loc[:, 'Day of Week'] = data1['InvoiceDate'].dt.day_name()"
   ]
  },
  {
   "cell_type": "code",
   "execution_count": 25,
   "id": "da99ca7d",
   "metadata": {},
   "outputs": [
    {
     "name": "stdout",
     "output_type": "stream",
     "text": [
      "Oldest date in dataset:  2010-01-12\n",
      "Most recent date in dataset:  2011-12-10\n"
     ]
    }
   ],
   "source": [
    "# Find the oldest and most recent dates in the dataset\n",
    "oldest_date = data1['Date'].min()\n",
    "most_recent_date = data1['Date'].max()\n",
    "\n",
    "# Print oldest and most recent dates in the dataset\n",
    "print('Oldest date in dataset: ', oldest_date)\n",
    "print('Most recent date in dataset: ', most_recent_date)"
   ]
  },
  {
   "cell_type": "code",
   "execution_count": 26,
   "id": "992c5d63",
   "metadata": {},
   "outputs": [
    {
     "data": {
      "text/plain": [
       "(403365, 15)"
      ]
     },
     "execution_count": 26,
     "metadata": {},
     "output_type": "execute_result"
    }
   ],
   "source": [
    "# Drop the row from the year 2010\n",
    "index_names =data1[data1['Year']==2010].index\n",
    "data1.drop(index_names, inplace = True)\n",
    "data1.drop('Year', axis=1, inplace=True)\n",
    "data1.shape"
   ]
  },
  {
   "cell_type": "code",
   "execution_count": 27,
   "id": "043e0d1c",
   "metadata": {},
   "outputs": [
    {
     "data": {
      "text/plain": [
       "(393092, 16)"
      ]
     },
     "execution_count": 27,
     "metadata": {},
     "output_type": "execute_result"
    }
   ],
   "source": [
    "# Adding new fature to calculate Sales revenue\n",
    "data1['Sales Revenue']=data1['UnitPrice']*data1['Quantity']\n",
    "# Check if Sales Revenue is negative\n",
    "index_names =data1[data1['Sales Revenue']<=0].index\n",
    "data1.drop(index_names, inplace = True)\n",
    "data1.drop_duplicates(inplace = True)\n",
    "data1.shape"
   ]
  },
  {
   "cell_type": "code",
   "execution_count": 28,
   "id": "19b09af8",
   "metadata": {},
   "outputs": [
    {
     "name": "stdout",
     "output_type": "stream",
     "text": [
      "Number of observations after data cleaning:  393092\n",
      "Number of features after data cleaning:  16\n"
     ]
    }
   ],
   "source": [
    "print('Number of observations after data cleaning: ', data1.shape[0])\n",
    "print('Number of features after data cleaning: ',data1.shape[1])"
   ]
  },
  {
   "cell_type": "code",
   "execution_count": 29,
   "id": "329582de",
   "metadata": {},
   "outputs": [
    {
     "data": {
      "text/plain": [
       "Index(['InvoiceNo', 'StockCode', 'Description', 'Quantity', 'InvoiceDate',\n",
       "       'UnitPrice', 'CustomerID', 'Country', 'Date', 'Time', 'Hour',\n",
       "       'Time of Day', 'Month', 'Week of the Year', 'Day of Week',\n",
       "       'Sales Revenue'],\n",
       "      dtype='object')"
      ]
     },
     "execution_count": 29,
     "metadata": {},
     "output_type": "execute_result"
    }
   ],
   "source": [
    "data1.columns"
   ]
  },
  {
   "cell_type": "code",
   "execution_count": 30,
   "id": "bab5aa52",
   "metadata": {},
   "outputs": [],
   "source": [
    "data1.to_csv('CleanRetailData_1.csv')"
   ]
  },
  {
   "cell_type": "code",
   "execution_count": null,
   "id": "38914622",
   "metadata": {},
   "outputs": [],
   "source": []
  }
 ],
 "metadata": {
  "kernelspec": {
   "display_name": "Python 3 (ipykernel)",
   "language": "python",
   "name": "python3"
  },
  "language_info": {
   "codemirror_mode": {
    "name": "ipython",
    "version": 3
   },
   "file_extension": ".py",
   "mimetype": "text/x-python",
   "name": "python",
   "nbconvert_exporter": "python",
   "pygments_lexer": "ipython3",
   "version": "3.11.5"
  }
 },
 "nbformat": 4,
 "nbformat_minor": 5
}
